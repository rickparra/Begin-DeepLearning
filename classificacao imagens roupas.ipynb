{
  "nbformat": 4,
  "nbformat_minor": 0,
  "metadata": {
    "colab": {
      "name": "Projeto_aula7.ipynb",
      "provenance": []
    },
    "kernelspec": {
      "name": "python3",
      "display_name": "Python 3"
    }
  },
  "cells": [
    {
      "metadata": {
        "id": "sNc3NouWYrN7"
      },
      "cell_type": "markdown",
      "source": [
        "Imports"
      ]
    },
    {
      "metadata": {
        "id": "4bQCahYjYdUB"
      },
      "cell_type": "code",
      "source": [
        "import tensorflow\n",
        "from tensorflow import keras\n",
        "import matplotlib.pyplot as plt\n",
        "import numpy as np\n",
        "from tensorflow.keras.models import load_model"
      ],
      "execution_count": null,
      "outputs": []
    },
    {
      "metadata": {
        "id": "f8uuzUjVYvkf"
      },
      "cell_type": "markdown",
      "source": [
        "Carregando o dataset"
      ]
    },
    {
      "metadata": {
        "id": "QoIys3wMYirH"
      },
      "cell_type": "code",
      "source": [
        "dataset = keras.datasets.fashion_mnist\n",
        "((imagens_treino, identificacoes_treino), (imagens_teste, identificacoes_teste)) = dataset.load_data()\n"
      ],
      "execution_count": null,
      "outputs": []
    },
    {
      "metadata": {
        "id": "oFr0526ZY5E_"
      },
      "cell_type": "markdown",
      "source": [
        "Exploração dos dados"
      ]
    },
    {
      "metadata": {
        "id": "fPIT36hpYl5A"
      },
      "cell_type": "code",
      "source": [
        "len(imagens_treino)\n",
        "imagens_treino.shape\n",
        "imagens_teste.shape\n",
        "len(identificacoes_teste)\n",
        "identificacoes_treino.min()\n",
        "identificacoes_treino.max()"
      ],
      "execution_count": null,
      "outputs": []
    },
    {
      "metadata": {
        "id": "yTWqT9DIY-iB"
      },
      "cell_type": "markdown",
      "source": [
        "Exibição dos dados"
      ]
    },
    {
      "metadata": {
        "id": "bGESm49JVahh"
      },
      "cell_type": "code",
      "source": [
        "total_de_classificacoes = 10\n",
        "nomes_de_classificacoes = ['Camiseta', 'Calça', 'Pullover',\n",
        "                           'Vestido', 'Casaco', 'Sandália', 'Camisa',\n",
        "                           'Tênis', 'Bolsa', 'Bota']\n",
        "\n",
        "plt.imshow(imagens_treino[0])\n",
        "plt.colorbar()"
      ],
      "execution_count": null,
      "outputs": []
    },
    {
      "metadata": {
        "id": "uU6ZySpIcoc5"
      },
      "cell_type": "markdown",
      "source": [
        "Normalizando as imagens"
      ]
    },
    {
      "metadata": {
        "id": "Ral_hdl9ulGG"
      },
      "cell_type": "code",
      "source": [
        "imagens_treino = imagens_treino/float(255)"
      ],
      "execution_count": null,
      "outputs": []
    },
    {
      "metadata": {
        "id": "2WABnvOJdCNl"
      },
      "cell_type": "markdown",
      "source": [
        "Criando, compilando, treinando e normalizando o modelo"
      ]
    },
    {
      "metadata": {
        "id": "uFedwlfFc0ii"
      },
      "cell_type": "code",
      "source": [
        "modelo = keras.Sequential([\n",
        "    keras.layers.Flatten(input_shape=(28, 28)),\n",
        "    keras.layers.Dense(256, activation=tensorflow.nn.relu),\n",
        "    keras.layers.Dropout(0.2),\n",
        "    keras.layers.Dense(10, activation=tensorflow.nn.softmax)\n",
        "])\n",
        "\n",
        "modelo.compile(optimizer='adam',\n",
        "               loss='sparse_categorical_crossentropy',\n",
        "               metrics=['accuracy'])\n",
        "\n",
        "historico = modelo.fit(imagens_treino, identificacoes_treino, epochs=5, validation_split=0.2)"
      ],
      "execution_count": null,
      "outputs": []
    },
    {
      "metadata": {
        "id": "4-RqzS88dgk_"
      },
      "cell_type": "markdown",
      "source": [
        "Salvando e carregando o modelo treinado"
      ]
    },
    {
      "metadata": {
        "id": "SVjmU41IELzX"
      },
      "cell_type": "code",
      "source": [
        "modelo.save('modelo.h5')\n",
        "modelo_salvo = load_model('modelo.h5')"
      ],
      "execution_count": null,
      "outputs": []
    },
    {
      "metadata": {
        "id": "SVxHO3opdnMb"
      },
      "cell_type": "markdown",
      "source": [
        "Visualizando as acurácias de treino e validação por época"
      ]
    },
    {
      "metadata": {
        "id": "pNc0JsWZY1Ie"
      },
      "cell_type": "code",
      "source": [
        "plt.plot(historico.history['acc'])\n",
        "plt.plot(historico.history['val_acc'])\n",
        "plt.title('Acurácia por épocas')\n",
        "plt.xlabel('épocas')\n",
        "plt.ylabel('acurácia')\n",
        "plt.legend(['treino', 'validação'])\n"
      ],
      "execution_count": null,
      "outputs": []
    },
    {
      "metadata": {
        "id": "ZKxkWNawdzZh"
      },
      "cell_type": "markdown",
      "source": [
        "Visualizando as perdas de treino e validação por época"
      ]
    },
    {
      "metadata": {
        "id": "2ugG3Vusg_Va"
      },
      "cell_type": "code",
      "source": [
        "plt.plot(historico.history['loss'])\n",
        "plt.plot(historico.history['val_loss'])\n",
        "plt.title('Perda por épocas')\n",
        "plt.xlabel('épocas')\n",
        "plt.ylabel('perda')\n",
        "plt.legend(['treino', 'validação'])"
      ],
      "execution_count": null,
      "outputs": []
    },
    {
      "metadata": {
        "id": "JFXG1oibd8E8"
      },
      "cell_type": "markdown",
      "source": [
        "Testando o modelo e o modelo salvo"
      ]
    },
    {
      "metadata": {
        "id": "I2kLEHPYUdhd"
      },
      "cell_type": "code",
      "source": [
        "testes = modelo.predict(imagens_teste)\n",
        "print('resultado teste:', np.argmax(testes[1]))\n",
        "print('número da imagem de teste:', identificacoes_teste[1])\n",
        "\n",
        "testes_modelo_salvo = modelo_salvo.predict(imagens_teste)\n",
        "print('resultado teste modelo salvo:', np.argmax(testes_modelo_salvo[1]))\n",
        "print('número da imagem de teste:', identificacoes_teste[1])"
      ],
      "execution_count": null,
      "outputs": []
    },
    {
      "metadata": {
        "id": "U64QMV1GeCUr"
      },
      "cell_type": "markdown",
      "source": [
        "Avaliando o modelo"
      ]
    },
    {
      "metadata": {
        "id": "wsbr9WqyXQ2G"
      },
      "cell_type": "code",
      "source": [
        "perda_teste, acuracia_teste = modelo.evaluate(imagens_teste, identificacoes_teste)\n",
        "print('Perda do teste:', perda_teste)\n",
        "print('Acurácia do teste:', acuracia_teste)"
      ],
      "execution_count": null,
      "outputs": []
    }
  ]
}